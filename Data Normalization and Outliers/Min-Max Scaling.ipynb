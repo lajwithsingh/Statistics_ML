{
 "cells": [
  {
   "cell_type": "markdown",
   "id": "8a9cebd2",
   "metadata": {},
   "source": [
    "<h1>Min Max Scaling</h1>"
   ]
  },
  {
   "cell_type": "code",
   "execution_count": 1,
   "id": "daf9ac29",
   "metadata": {},
   "outputs": [],
   "source": [
    "import numpy as np\n",
    "import pandas as pd\n",
    "import matplotlib.pyplot as plt"
   ]
  },
  {
   "cell_type": "code",
   "execution_count": 3,
   "id": "4c7dba18",
   "metadata": {},
   "outputs": [
    {
     "data": {
      "text/plain": [
       "array([630, 816, 501, 567, 619, 871, 997, 101, 940, 952, 694,  78,  77,\n",
       "       220, 737, 480, 776, 713, 376, 486,  52, 621, 565, 339, 662, 492,\n",
       "       177, 377, 169, 716, 229, 570, 344,   2,  28, 195, 189, 117,  12,\n",
       "       198, 125, 733, 624, 502, 552, 209, 585, 158, 586, 289, 868, 704,\n",
       "       921, 391, 299, 954,  73, 115, 158, 903, 239, 158, 861,  34, 378,\n",
       "       118, 496, 737, 108, 539, 840, 730, 971, 507, 856, 714, 238, 402,\n",
       "       883, 611, 326, 463, 461, 948,  72, 344, 660, 361, 386, 792, 615,\n",
       "       939, 413, 541, 950, 415, 560, 757, 664, 137, 841, 653, 417, 447,\n",
       "       587, 844,  99, 798, 281, 722,  78, 506, 757, 380, 810, 835, 924,\n",
       "       326,   8, 480, 146, 321, 110, 605, 463,  86,   1,  90, 214,  18,\n",
       "       538, 497, 239, 873, 176, 590, 971, 752, 660, 209, 535, 342, 326,\n",
       "       623, 456, 605, 547, 291, 343, 583, 736,  65, 942, 108, 243, 296,\n",
       "       176, 330, 156, 637, 370, 163, 202, 121, 570, 854, 511, 369, 991,\n",
       "       687, 426, 282, 694, 646,  33, 107, 956, 306, 874, 495, 528, 636,\n",
       "       609,  28, 253, 535, 327, 846, 734,  81, 595, 757, 566, 103, 118,\n",
       "       383, 838, 662, 516, 668, 189, 468, 448, 935, 343, 186, 674, 165,\n",
       "       736, 591, 825, 278, 479,  25, 838, 363, 177, 881, 175, 256, 252,\n",
       "       388, 568, 441, 579, 449, 911, 985, 557, 580, 922, 735,  55, 729,\n",
       "       596, 399, 457, 283, 872, 559,  96, 629, 523, 483, 943, 153, 232,\n",
       "       389, 994, 189, 974, 894, 361, 576, 176, 401, 536, 265, 878, 634,\n",
       "        44, 948, 851, 155, 913, 768, 306, 422,  46,  74, 606, 304, 482,\n",
       "       277, 594, 695, 561, 635, 556, 507, 633, 337, 394, 723, 293, 518,\n",
       "       973, 467, 101, 928, 441,  98, 229, 748, 880, 693, 127, 855, 971,\n",
       "       869, 153, 322, 579, 607, 920, 123, 235, 490, 397, 478, 126, 156,\n",
       "       801,  29, 535, 709, 479, 257, 124,  93, 468, 511, 162, 168, 172,\n",
       "       599, 159, 100, 804, 454, 171, 875, 361, 118, 954, 326, 540, 443,\n",
       "       574, 456, 430, 837, 458, 202, 967, 993, 924, 249, 324, 988, 974,\n",
       "       724, 541, 116, 326, 390, 386, 682, 114, 346, 323, 452,  39, 572,\n",
       "       343, 567,  83,   8, 308, 300, 365, 528, 873,   4, 624, 870, 796,\n",
       "       998, 369, 738, 971, 341, 885, 534, 228, 315, 461, 980, 809, 934,\n",
       "        97, 536, 984, 730, 148, 779, 966, 555, 164,  38, 937, 634, 134,\n",
       "       452, 875,  95, 329, 330, 453, 760, 169, 836, 208, 878, 665, 443,\n",
       "       479, 399, 370, 761,  99, 996, 110, 420, 207, 107, 714, 137, 690,\n",
       "       937, 195, 309, 668, 648, 191,  37, 343, 805, 780, 966, 997, 298,\n",
       "       343, 526, 314, 565, 190,   1, 318, 170, 882, 642, 395, 440, 825,\n",
       "       774, 470, 192, 282, 818, 348, 434, 771, 313, 685, 767, 789, 107,\n",
       "        33, 944, 102, 311, 321, 544,  39, 722, 350, 105, 908, 982, 844,\n",
       "       997, 253, 496, 966, 444, 173, 197, 569,   2, 520, 235, 428, 628,\n",
       "       501,  76, 508, 988, 931,  26, 348, 639,   6, 819, 201, 588, 945,\n",
       "       274, 549, 581, 198, 846, 202, 242, 850, 285,  30, 448, 131,  31,\n",
       "       158, 341, 564,  18, 171, 931, 801, 914, 344,  79, 845, 758, 122,\n",
       "       496, 744, 337, 495,  90, 664, 910, 101, 272, 272, 153, 564, 467,\n",
       "       834, 628, 108,  33, 893, 122, 234, 756,  85, 147, 480, 988, 620,\n",
       "       459, 905, 825, 243, 152, 454, 282, 735, 472, 472, 498, 829, 601,\n",
       "       364, 456, 178, 661, 450, 122, 591, 334, 897, 652, 983, 538, 912,\n",
       "       487, 850, 451, 408, 521, 686, 390, 260, 859, 744, 483, 884, 323,\n",
       "       968, 402,  98, 320, 789,  89, 723, 843, 673, 775,  72, 184, 757,\n",
       "        44, 187, 401, 809, 897, 113, 452, 667,  39, 670, 848, 505, 305,\n",
       "       348, 889, 332, 179, 894,  69, 523, 718, 443, 240,  84, 842, 651,\n",
       "       498, 392, 314, 622, 800, 251, 112,  35, 729,  19, 736, 180, 663,\n",
       "       596, 215, 505, 293, 699, 798, 693, 691, 765, 956, 638, 840, 999,\n",
       "       649,  38, 466, 112, 465, 522, 390, 361, 543, 486, 241, 266, 355,\n",
       "       729, 813, 437,  92,  62, 976, 875, 809, 479, 763, 675, 323, 771,\n",
       "       815, 285, 405, 135, 168, 423, 899, 262, 684, 577, 983, 871, 755,\n",
       "       763, 514, 154, 567, 144, 905, 884, 144, 365, 279, 284, 523,  61,\n",
       "       498, 650, 261, 644, 337, 141, 900, 758, 704,  34, 348, 999, 260,\n",
       "       143, 289,  55, 858, 840, 894, 490, 978, 338, 307, 210, 457, 689,\n",
       "       873, 903, 322,  66, 174, 414, 445, 327,  81, 523, 993, 383, 467,\n",
       "        81, 170, 341, 331, 202, 928, 590, 599, 465, 981, 775, 581, 319,\n",
       "        74, 661, 168, 981, 332,  85, 469, 710, 311, 797, 410, 353, 572,\n",
       "       804, 105, 833, 718, 450, 142, 733, 305, 571, 746, 640, 393, 175,\n",
       "       960, 339, 158, 463, 716, 301, 463, 600, 117, 235, 608, 118, 487,\n",
       "        63, 426, 180, 942,  76, 302, 335, 760, 933,  19, 189, 493, 319,\n",
       "       146, 241, 577, 745, 425, 726,  28, 130, 394, 392, 282, 915, 306,\n",
       "       892, 602, 196, 597,  52, 339, 618, 699, 590, 546, 933, 964, 994,\n",
       "       406, 695, 420,  81, 768,  46, 283, 939, 344, 789, 179, 707, 836,\n",
       "       534, 716, 694, 258, 193, 527, 341,  86,  71, 690, 965, 652, 195,\n",
       "       138, 177, 422, 606, 749, 512, 124,  45, 927, 196, 696, 450, 583,\n",
       "       220,  79, 839, 394, 886, 425, 520, 767, 725, 756, 146, 257,  50,\n",
       "       526, 780, 732, 964,  30, 584,  74, 994, 917, 361, 720, 139, 990,\n",
       "       564, 645, 541, 301, 207, 260, 186, 367, 879, 828, 306, 383, 918,\n",
       "       784, 286, 480, 411, 565, 840, 567, 958, 669, 848, 880, 547, 910,\n",
       "       450, 381, 618, 222, 716, 253, 804, 275, 740,  53, 290, 593, 718,\n",
       "       489,  26, 486, 898, 897, 959, 625, 936,  95, 518, 340, 672, 402,\n",
       "       939, 169, 309, 977, 839, 330, 509, 739, 532, 580, 275, 138, 252,\n",
       "       281, 636, 382, 142, 137, 446, 666,  60, 451, 123, 222, 848, 452,\n",
       "       367, 475, 354, 187, 787, 576, 348, 367,  58, 587, 828, 855])"
      ]
     },
     "execution_count": 3,
     "metadata": {},
     "output_type": "execute_result"
    }
   ],
   "source": [
    "random_data = np.random.randint(1,1000,1000)\n",
    "random_data"
   ]
  },
  {
   "cell_type": "code",
   "execution_count": 4,
   "id": "fb10ad83",
   "metadata": {},
   "outputs": [],
   "source": [
    "#Applying Min-Max Scaling\n",
    "\n",
    "data_min = random_data.min()\n",
    "data_max = random_data.max()\n",
    "data_range = data_max-data_min\n",
    "\n",
    "minMaxScaled = (random_data - data_min)/data_range"
   ]
  },
  {
   "cell_type": "code",
   "execution_count": 9,
   "id": "76763b4c",
   "metadata": {},
   "outputs": [
    {
     "data": {
      "image/png": "[encoded data removed]",
      "text/plain": [
       "<Figure size 432x288 with 1 Axes>"
      ]
     },
     "metadata": {
      "needs_background": "light"
     },
     "output_type": "display_data"
    }
   ],
   "source": [
    "plt.hist(minMaxScaled, bins = 40, rwidth = 0.5)\n",
    "plt.title(\"Min Max Scaled Data\")\n",
    "plt.xlabel(\"Data Bin\")\n",
    "plt.ylabel(\"Frequency\")\n",
    "plt.show()"
   ]
  },
  {
   "cell_type": "code",
   "execution_count": 13,
   "id": "d79dd25e",
   "metadata": {},
   "outputs": [
    {
     "data": {
      "image/png": "[encoded data removed]",
      "text/plain": [
       "<Figure size 432x288 with 1 Axes>"
      ]
     },
     "metadata": {
      "needs_background": "light"
     },
     "output_type": "display_data"
    }
   ],
   "source": [
    "from sklearn.preprocessing import MinMaxScaler\n",
    "\n",
    "minMaxScaler = MinMaxScaler()\n",
    "sklearn_scaled = minMaxScaler.fit_transform(random_data.reshape(-1, 1))\n",
    "\n",
    "\n",
    "plt.hist(sklearn_scaled, bins = 40, rwidth = 0.5)\n",
    "plt.title(\"Min Max Scaled Data\")\n",
    "plt.xlabel(\"Data Bin\")\n",
    "plt.ylabel(\"Frequency\")\n",
    "plt.show()"
   ]
  }
 ],
 "metadata": {
  "kernelspec": {
   "display_name": "Python 3 (ipykernel)",
   "language": "python",
   "name": "python3"
  },
  "language_info": {
   "codemirror_mode": {
    "name": "ipython",
    "version": 3
   },
   "file_extension": ".py",
   "mimetype": "text/x-python",
   "name": "python",
   "nbconvert_exporter": "python",
   "pygments_lexer": "ipython3",
   "version": "3.9.12"
  }
 },
 "nbformat": 4,
 "nbformat_minor": 5
}
