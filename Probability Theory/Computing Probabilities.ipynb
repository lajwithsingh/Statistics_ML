{
 "cells": [
  {
   "cell_type": "markdown",
   "id": "a1b8920a",
   "metadata": {},
   "source": [
    "<h1>Computing Probabilities</h1>"
   ]
  },
  {
   "cell_type": "code",
   "execution_count": 2,
   "id": "a869a77f",
   "metadata": {},
   "outputs": [],
   "source": [
    "##importing the libraries\n",
    "import matplotlib.pyplot as plt\n",
    "import numpy as np"
   ]
  },
  {
   "cell_type": "code",
   "execution_count": 3,
   "id": "67fe679f",
   "metadata": {},
   "outputs": [
    {
     "data": {
      "text/plain": [
       "array([0.06666667, 0.13333333, 0.2       , 0.26666667, 0.33333333])"
      ]
     },
     "execution_count": 3,
     "metadata": {},
     "output_type": "execute_result"
    }
   ],
   "source": [
    "##the basic formula\n",
    "\n",
    "#count of the events\n",
    "c = np.array([1, 2, 3, 4, 5])\n",
    "\n",
    "#converting to the probabilites\n",
    "c / sum(c)"
   ]
  },
  {
   "cell_type": "code",
   "execution_count": 8,
   "id": "d79f59e8",
   "metadata": {},
   "outputs": [],
   "source": [
    "##the examples of marbles\n",
    "blue = 30\n",
    "orange = 50\n",
    "red = 90\n",
    "\n",
    "total_marbles = blue + orange + red\n",
    "\n",
    "jar = np.hstack((np.ones(blue), 2 * np.ones(orange),3 * np.ones(red)))"
   ]
  },
  {
   "cell_type": "code",
   "execution_count": 9,
   "id": "b4ab4178",
   "metadata": {},
   "outputs": [
    {
     "data": {
      "text/plain": [
       "array([1., 1., 1., 1., 1., 1., 1., 1., 1., 1., 1., 1., 1., 1., 1., 1., 1.,\n",
       "       1., 1., 1., 1., 1., 1., 1., 1., 1., 1., 1., 1., 1., 2., 2., 2., 2.,\n",
       "       2., 2., 2., 2., 2., 2., 2., 2., 2., 2., 2., 2., 2., 2., 2., 2., 2.,\n",
       "       2., 2., 2., 2., 2., 2., 2., 2., 2., 2., 2., 2., 2., 2., 2., 2., 2.,\n",
       "       2., 2., 2., 2., 2., 2., 2., 2., 2., 2., 2., 2., 3., 3., 3., 3., 3.,\n",
       "       3., 3., 3., 3., 3., 3., 3., 3., 3., 3., 3., 3., 3., 3., 3., 3., 3.,\n",
       "       3., 3., 3., 3., 3., 3., 3., 3., 3., 3., 3., 3., 3., 3., 3., 3., 3.,\n",
       "       3., 3., 3., 3., 3., 3., 3., 3., 3., 3., 3., 3., 3., 3., 3., 3., 3.,\n",
       "       3., 3., 3., 3., 3., 3., 3., 3., 3., 3., 3., 3., 3., 3., 3., 3., 3.,\n",
       "       3., 3., 3., 3., 3., 3., 3., 3., 3., 3., 3., 3., 3., 3., 3., 3., 3.])"
      ]
     },
     "execution_count": 9,
     "metadata": {},
     "output_type": "execute_result"
    }
   ],
   "source": [
    "jar"
   ]
  },
  {
   "cell_type": "code",
   "execution_count": 57,
   "id": "1b94cd2e",
   "metadata": {},
   "outputs": [],
   "source": [
    "draws = 500\n",
    "outcomes = np.ones(draws)\n",
    "\n",
    "for i in range(draws):\n",
    "    outcomes[i] = jar[np.random.randint(1, len(jar))]\n"
   ]
  },
  {
   "cell_type": "code",
   "execution_count": 59,
   "id": "267a7317",
   "metadata": {},
   "outputs": [
    {
     "name": "stdout",
     "output_type": "stream",
     "text": [
      "Blue Balls : 0.188\n",
      "Orange Balls : 0.288\n",
      "Red Balls: 0.524\n"
     ]
    }
   ],
   "source": [
    "blue_balls = sum(outcomes == 1)/ draws\n",
    "orange_balls = sum(outcomes == 2) / draws\n",
    "red_balls = sum(outcomes == 3) / draws\n",
    "\n",
    "print(f\"Blue Balls : {blue_balls}\\nOrange Balls : {orange_balls}\\nRed Balls: {red_balls}\")"
   ]
  },
  {
   "cell_type": "code",
   "execution_count": 61,
   "id": "c327b4f7",
   "metadata": {},
   "outputs": [
    {
     "data": {
      "text/plain": [
       "1.0"
      ]
     },
     "execution_count": 61,
     "metadata": {},
     "output_type": "execute_result"
    }
   ],
   "source": [
    "sum((blue_balls, orange_balls, red_balls))"
   ]
  },
  {
   "cell_type": "code",
   "execution_count": 65,
   "id": "a00f3f9d",
   "metadata": {},
   "outputs": [
    {
     "data": {
      "text/plain": [
       "[<matplotlib.lines.Line2D at 0x24b06192460>]"
      ]
     },
     "execution_count": 65,
     "metadata": {},
     "output_type": "execute_result"
    },
    {
     "data": {
      "image/png": "[encoded data removed]",
      "text/plain": [
       "<Figure size 432x288 with 1 Axes>"
      ]
     },
     "metadata": {
      "needs_background": "light"
     },
     "output_type": "display_data"
    }
   ],
   "source": [
    "plt.bar([1, 2, 3], [blue_balls, orange_balls, red_balls], label = \"proportion\")\n",
    "plt.plot([0.5, 1.5], [blue/total_marbles, blue/total_marbles],'b', linewidth = 3,  label = \"probability\")\n",
    "plt.plot([1.5, 2.5], [orange/total_marbles, orange/total_marbles], 'b', linewidth = 3)\n",
    "plt.plot([2.5, 3.5], [red/total_marbles, red/total_marbles], 'b', linewidth = 3)\n",
    "\n",
    "plt.xticks()"
   ]
  },
  {
   "cell_type": "code",
   "execution_count": null,
   "id": "e07cf716",
   "metadata": {},
   "outputs": [],
   "source": []
  }
 ],
 "metadata": {
  "kernelspec": {
   "display_name": "Python 3 (ipykernel)",
   "language": "python",
   "name": "python3"
  },
  "language_info": {
   "codemirror_mode": {
    "name": "ipython",
    "version": 3
   },
   "file_extension": ".py",
   "mimetype": "text/x-python",
   "name": "python",
   "nbconvert_exporter": "python",
   "pygments_lexer": "ipython3",
   "version": "3.9.12"
  }
 },
 "nbformat": 4,
 "nbformat_minor": 5
}
