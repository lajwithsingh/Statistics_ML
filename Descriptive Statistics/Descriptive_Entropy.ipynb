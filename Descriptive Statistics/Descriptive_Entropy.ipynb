{
 "cells": [
  {
   "cell_type": "code",
   "execution_count": 1,
   "id": "299a89c1",
   "metadata": {},
   "outputs": [],
   "source": [
    "import matplotlib.pyplot as plt\n",
    "import numpy as np\n",
    "import pandas as pd"
   ]
  },
  {
   "cell_type": "code",
   "execution_count": 4,
   "id": "1d5121be",
   "metadata": {},
   "outputs": [
    {
     "data": {
      "text/plain": [
       "array([6, 7, 8, 8, 5, 6, 2, 1, 7, 3, 2, 6, 6, 3, 6, 6, 3, 2, 3, 4, 8, 6,\n",
       "       3, 6, 5, 2, 5, 4, 2, 2, 1, 3, 3, 5, 4, 6, 2, 6, 7, 3, 7, 4, 5, 7,\n",
       "       7, 2, 3, 3, 3, 4, 5, 2, 5, 2, 4, 2, 2, 3, 4, 6, 6, 3, 3, 4, 2, 6,\n",
       "       5, 2, 4, 1, 2, 2, 4, 8, 8, 7, 4, 5, 7, 6, 5, 3, 1, 3, 7, 2, 3, 5,\n",
       "       2, 2, 6, 8, 6, 3, 8, 6, 3, 6, 3, 6, 4, 6, 5, 4, 6, 1, 7, 1, 7, 4,\n",
       "       1, 1, 1, 6, 2, 8, 6, 5, 1, 1, 5, 8, 1, 6, 5, 6, 8, 1, 4, 1, 2, 2,\n",
       "       8, 5, 6, 1, 2, 3, 1, 4, 8, 2, 4, 5, 3, 2, 5, 4, 4, 1, 1, 2, 7, 7,\n",
       "       8, 6, 2, 7, 8, 4, 3, 8, 1, 7, 4, 5, 7, 2, 5, 8, 1, 4, 5, 1, 8, 5,\n",
       "       1, 2, 1, 3, 5, 7, 3, 3, 1, 4, 6, 8, 2, 7, 2, 4, 2, 3, 2, 1, 8, 8,\n",
       "       3, 5, 1, 7, 1, 1, 3, 8, 3, 4, 6, 8, 4, 4, 4, 5, 1, 7, 3, 8, 4, 5,\n",
       "       7, 1, 6, 5, 2, 3, 2, 6, 1, 7, 1, 2, 4, 5, 7, 4, 3, 6, 7, 3, 5, 2,\n",
       "       5, 6, 2, 8, 1, 1, 2, 3, 1, 6, 6, 1, 5, 8, 4, 3, 5, 6, 2, 8, 7, 2,\n",
       "       3, 8, 7, 6, 4, 7, 5, 5, 5, 3, 3, 5, 4, 4, 1, 6, 7, 3, 3, 6, 1, 4,\n",
       "       4, 7, 4, 6, 4, 4, 7, 1, 2, 4, 2, 2, 8, 1, 4, 6, 2, 3, 5, 5, 3, 8,\n",
       "       5, 6, 7, 4, 2, 3, 4, 1, 6, 2, 2, 8, 2, 6, 3, 6, 4, 2, 5, 8, 2, 1,\n",
       "       1, 6, 4, 4, 8, 6, 5, 6, 4, 5, 1, 5, 7, 8, 8, 3, 5, 8, 1, 6, 7, 7,\n",
       "       2, 1, 3, 8, 1, 3, 1, 3, 3, 2, 3, 4, 7, 6, 4, 3, 8, 8, 2, 8, 5, 2,\n",
       "       3, 2, 1, 1, 3, 1, 4, 2, 3, 4, 8, 6, 5, 2, 5, 4, 7, 1, 4, 5, 4, 1,\n",
       "       8, 5, 8, 1, 1, 7, 5, 1, 5, 6, 2, 3, 2, 8, 2, 5, 3, 5, 5, 8, 7, 7,\n",
       "       7, 6, 3, 2, 5, 4, 3, 3, 7, 3, 4, 8, 1, 3, 1, 3, 5, 5, 7, 1, 8, 7,\n",
       "       1, 7, 5, 3, 8, 6, 3, 6, 2, 6, 1, 5, 6, 4, 5, 5, 8, 8, 8, 3, 1, 3,\n",
       "       4, 2, 5, 2, 3, 3, 2, 4, 6, 5, 3, 5, 3, 6, 8, 4, 3, 3, 2, 6, 5, 7,\n",
       "       6, 1, 4, 3, 7, 8, 8, 6, 1, 5, 5, 3, 3, 3, 2, 1, 6, 2, 2, 2, 2, 2,\n",
       "       2, 3, 6, 1, 5, 5, 2, 7, 7, 3, 8, 6, 4, 7, 6, 8, 5, 2, 6, 7, 6, 2,\n",
       "       1, 6, 2, 4, 7, 1, 6, 1, 8, 5, 6, 5, 3, 4, 1, 3, 2, 7, 8, 2, 5, 4,\n",
       "       3, 5, 6, 2, 3, 2, 6, 2, 2, 1, 5, 8, 6, 2, 6, 8, 3, 1, 6, 4, 7, 2,\n",
       "       3, 4, 3, 8, 4, 2, 4, 1, 2, 2, 8, 8, 4, 5, 2, 3, 4, 4, 4, 8, 5, 2,\n",
       "       2, 2, 7, 4, 5, 5, 2, 5, 8, 2, 4, 4, 3, 6, 1, 2, 8, 3, 3, 2, 5, 7,\n",
       "       3, 3, 4, 7, 2, 1, 6, 4, 3, 7, 3, 8, 2, 1, 2, 4, 1, 6, 3, 8, 4, 3,\n",
       "       4, 2, 7, 7, 4, 8, 6, 4, 6, 3, 4, 1, 5, 3, 1, 3, 2, 8, 6, 8, 2, 6,\n",
       "       5, 3, 6, 4, 4, 8, 7, 6, 4, 2, 8, 4, 2, 5, 6, 5, 6, 5, 2, 4, 2, 2,\n",
       "       3, 1, 5, 5, 5, 3, 1, 2, 3, 2, 3, 5, 5, 1, 7, 5, 7, 4, 3, 3, 1, 7,\n",
       "       6, 2, 8, 8, 2, 7, 3, 3, 1, 7, 8, 6, 4, 1, 5, 2, 6, 8, 8, 3, 1, 4,\n",
       "       2, 8, 4, 5, 1, 5, 1, 1, 3, 5, 5, 5, 8, 7, 2, 2, 5, 4, 7, 8, 6, 6,\n",
       "       7, 1, 5, 7, 2, 2, 3, 7, 8, 4, 2, 3, 2, 6, 3, 6, 4, 5, 3, 5, 8, 3,\n",
       "       6, 5, 7, 8, 4, 7, 5, 3, 5, 2, 7, 8, 4, 2, 8, 2, 5, 7, 6, 3, 6, 3,\n",
       "       4, 1, 5, 2, 8, 4, 1, 3, 1, 7, 8, 8, 3, 5, 2, 4, 4, 8, 8, 2, 4, 7,\n",
       "       5, 3, 4, 6, 8, 2, 3, 1, 3, 5, 3, 8, 5, 4, 2, 7, 2, 4, 7, 3, 8, 2,\n",
       "       1, 1, 5, 6, 1, 3, 2, 6, 4, 3, 3, 5, 1, 8, 3, 2, 8, 5, 8, 6, 7, 8,\n",
       "       2, 6, 2, 3, 3, 2, 1, 8, 1, 3, 2, 1, 5, 1, 1, 1, 8, 3, 4, 8, 3, 7,\n",
       "       7, 6, 4, 8, 8, 2, 6, 3, 5, 4, 7, 5, 6, 1, 7, 4, 6, 5, 7, 1, 3, 5,\n",
       "       3, 8, 6, 2, 3, 2, 8, 1, 3, 6, 1, 6, 6, 1, 6, 4, 3, 1, 1, 3, 2, 5,\n",
       "       8, 7, 4, 3, 2, 2, 5, 1, 2, 5, 5, 2, 4, 1, 1, 2, 2, 7, 3, 8, 8, 3,\n",
       "       1, 1, 6, 8, 3, 2, 4, 4, 4, 1, 8, 7, 2, 7, 1, 5, 6, 3, 3, 5, 7, 8,\n",
       "       5, 2, 3, 1, 5, 4, 7, 3, 4, 5, 4, 2, 8, 7, 2, 6, 4, 8, 1, 4, 6, 4,\n",
       "       4, 7, 1, 8, 3, 2, 6, 3, 2, 5])"
      ]
     },
     "execution_count": 4,
     "metadata": {},
     "output_type": "execute_result"
    }
   ],
   "source": [
    "#randomly generator the data\n",
    "\n",
    "n = 1000\n",
    "random_number = np.random.randint(1, 9,1000)\n",
    "\n",
    "random_number"
   ]
  },
  {
   "cell_type": "code",
   "execution_count": 25,
   "id": "fde85c70",
   "metadata": {},
   "outputs": [],
   "source": [
    "temp_dict = {}\n",
    "\n",
    "for num in random_number:\n",
    "    try:\n",
    "        temp_dict[num] += 1\n",
    "    except KeyError:\n",
    "        temp_dict[num] = 1"
   ]
  },
  {
   "cell_type": "code",
   "execution_count": 19,
   "id": "389c43b2",
   "metadata": {},
   "outputs": [
    {
     "data": {
      "text/plain": [
       "{6: 116, 7: 92, 8: 113, 5: 129, 2: 153, 1: 121, 3: 151, 4: 125}"
      ]
     },
     "execution_count": 19,
     "metadata": {},
     "output_type": "execute_result"
    }
   ],
   "source": [
    "temp_dict"
   ]
  },
  {
   "cell_type": "code",
   "execution_count": 43,
   "id": "41ffaa0d",
   "metadata": {},
   "outputs": [],
   "source": [
    "y = temp_dict.values()"
   ]
  },
  {
   "cell_type": "code",
   "execution_count": 44,
   "id": "274ab6f3",
   "metadata": {},
   "outputs": [],
   "source": [
    "x = temp_dict.keys()"
   ]
  },
  {
   "cell_type": "code",
   "execution_count": 45,
   "id": "0f662f6f",
   "metadata": {},
   "outputs": [
    {
     "data": {
      "text/plain": [
       "<BarContainer object of 8 artists>"
      ]
     },
     "execution_count": 45,
     "metadata": {},
     "output_type": "execute_result"
    },
    {
     "data": {
      "image/png": "[encoded data removed]",
      "text/plain": [
       "<Figure size 432x288 with 1 Axes>"
      ]
     },
     "metadata": {
      "needs_background": "light"
     },
     "output_type": "display_data"
    }
   ],
   "source": [
    "plt.bar(x,y)"
   ]
  },
  {
   "cell_type": "code",
   "execution_count": 47,
   "id": "3af3fd2d",
   "metadata": {},
   "outputs": [
    {
     "data": {
      "text/plain": [
       "<BarContainer object of 8 artists>"
      ]
     },
     "execution_count": 47,
     "metadata": {},
     "output_type": "execute_result"
    },
    {
     "data": {
      "image/png": "[encoded data removed]",
      "text/plain": [
       "<Figure size 432x288 with 1 Axes>"
      ]
     },
     "metadata": {
      "needs_background": "light"
     },
     "output_type": "display_data"
    }
   ],
   "source": [
    "prob_y = np.array([x for x in y])/len(y)\n",
    "\n",
    "plt.bar(x, prob_y)"
   ]
  },
  {
   "cell_type": "code",
   "execution_count": 53,
   "id": "0b6fe482",
   "metadata": {},
   "outputs": [
    {
     "data": {
      "image/png": "[encoded data removed]",
      "text/plain": [
       "<Figure size 432x288 with 1 Axes>"
      ]
     },
     "metadata": {
      "needs_background": "light"
     },
     "output_type": "display_data"
    }
   ],
   "source": [
    "#computing the entropy\n",
    "\n",
    "entropee = -sum(prob_y * np.log2(prob_y + np.finfo(float).eps))\n",
    "\n",
    "plt.bar(x, prob_y)\n",
    "plt.title(\"Plot showing the Probability with Entropy of %.2f\"%entropee)\n",
    "plt.xlabel(\"Expected Outcomes\")\n",
    "plt.ylabel(\"Entropy\")\n",
    "plt.show()"
   ]
  }
 ],
 "metadata": {
  "kernelspec": {
   "display_name": "Python 3 (ipykernel)",
   "language": "python",
   "name": "python3"
  },
  "language_info": {
   "codemirror_mode": {
    "name": "ipython",
    "version": 3
   },
   "file_extension": ".py",
   "mimetype": "text/x-python",
   "name": "python",
   "nbconvert_exporter": "python",
   "pygments_lexer": "ipython3",
   "version": "3.9.12"
  }
 },
 "nbformat": 4,
 "nbformat_minor": 5
}
