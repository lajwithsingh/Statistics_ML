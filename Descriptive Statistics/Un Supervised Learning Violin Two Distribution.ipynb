{
 "cells": [
  {
   "cell_type": "markdown",
   "id": "32d1e9e3",
   "metadata": {},
   "source": [
    "<h1>Un Supervised Learning Violin Plot With Two Distribution</h1>"
   ]
  },
  {
   "cell_type": "code",
   "execution_count": 1,
   "id": "a92611c5",
   "metadata": {},
   "outputs": [],
   "source": [
    "import numpy as np\n",
    "import pandas as pd\n",
    "import matplotlib.pyplot as plt\n",
    "import seaborn as sns"
   ]
  },
  {
   "cell_type": "code",
   "execution_count": 10,
   "id": "10a7d23f",
   "metadata": {},
   "outputs": [],
   "source": [
    "#Number of Data Points\n",
    "n = 1000\n",
    "\n",
    "normal_distribution = np.random.standard_normal(size = n)\n",
    "exponential_distribution = np.random.exponential(size = n)\n"
   ]
  },
  {
   "cell_type": "code",
   "execution_count": 9,
   "id": "89b7a6e8",
   "metadata": {},
   "outputs": [
    {
     "data": {
      "text/plain": [
       "(array([  2.,  15.,  59., 174., 250., 246., 158.,  72.,  15.,   9.]),\n",
       " array([-3.45938628, -2.78074791, -2.10210954, -1.42347117, -0.7448328 ,\n",
       "        -0.06619443,  0.61244393,  1.2910823 ,  1.96972067,  2.64835904,\n",
       "         3.32699741]),\n",
       " <BarContainer object of 10 artists>)"
      ]
     },
     "execution_count": 9,
     "metadata": {},
     "output_type": "execute_result"
    },
    {
     "data": {
      "image/png": "[encoded data removed]",
      "text/plain": [
       "<Figure size 432x288 with 1 Axes>"
      ]
     },
     "metadata": {
      "needs_background": "light"
     },
     "output_type": "display_data"
    }
   ],
   "source": [
    "plt.hist(normal_distribution)"
   ]
  },
  {
   "cell_type": "code",
   "execution_count": 11,
   "id": "0b278a03",
   "metadata": {},
   "outputs": [
    {
     "data": {
      "text/plain": [
       "(array([524., 246., 116.,  62.,  31.,  12.,   5.,   2.,   0.,   2.]),\n",
       " array([8.23107749e-05, 7.56698402e-01, 1.51331449e+00, 2.26993059e+00,\n",
       "        3.02654668e+00, 3.78316277e+00, 4.53977886e+00, 5.29639495e+00,\n",
       "        6.05301104e+00, 6.80962713e+00, 7.56624323e+00]),\n",
       " <BarContainer object of 10 artists>)"
      ]
     },
     "execution_count": 11,
     "metadata": {},
     "output_type": "execute_result"
    },
    {
     "data": {
      "image/png": "[encoded data removed]",
      "text/plain": [
       "<Figure size 432x288 with 1 Axes>"
      ]
     },
     "metadata": {
      "needs_background": "light"
     },
     "output_type": "display_data"
    }
   ],
   "source": [
    "plt.hist(exponential_distribution)"
   ]
  },
  {
   "cell_type": "code",
   "execution_count": 21,
   "id": "932f8da7",
   "metadata": {},
   "outputs": [],
   "source": [
    "output1 = np.vstack((np.zeros(1000),exponential_distribution))\n",
    "output2 = np.vstack((np.ones(1000), normal_distribution))"
   ]
  },
  {
   "cell_type": "code",
   "execution_count": 25,
   "id": "dacb4598",
   "metadata": {},
   "outputs": [],
   "source": [
    "output3 = np.hstack((output1, output2))"
   ]
  },
  {
   "cell_type": "code",
   "execution_count": 34,
   "id": "cb5e477b",
   "metadata": {},
   "outputs": [
    {
     "data": {
      "text/html": [
       "<div>\n",
       "<style scoped>\n",
       "    .dataframe tbody tr th:only-of-type {\n",
       "        vertical-align: middle;\n",
       "    }\n",
       "\n",
       "    .dataframe tbody tr th {\n",
       "        vertical-align: top;\n",
       "    }\n",
       "\n",
       "    .dataframe thead th {\n",
       "        text-align: right;\n",
       "    }\n",
       "</style>\n",
       "<table border=\"1\" class=\"dataframe\">\n",
       "  <thead>\n",
       "    <tr style=\"text-align: right;\">\n",
       "      <th></th>\n",
       "      <th>Label</th>\n",
       "      <th>Value</th>\n",
       "    </tr>\n",
       "  </thead>\n",
       "  <tbody>\n",
       "    <tr>\n",
       "      <th>0</th>\n",
       "      <td>0.0</td>\n",
       "      <td>1.231191</td>\n",
       "    </tr>\n",
       "    <tr>\n",
       "      <th>1</th>\n",
       "      <td>0.0</td>\n",
       "      <td>0.617047</td>\n",
       "    </tr>\n",
       "    <tr>\n",
       "      <th>2</th>\n",
       "      <td>0.0</td>\n",
       "      <td>0.640862</td>\n",
       "    </tr>\n",
       "    <tr>\n",
       "      <th>3</th>\n",
       "      <td>0.0</td>\n",
       "      <td>2.659028</td>\n",
       "    </tr>\n",
       "    <tr>\n",
       "      <th>4</th>\n",
       "      <td>0.0</td>\n",
       "      <td>0.758679</td>\n",
       "    </tr>\n",
       "  </tbody>\n",
       "</table>\n",
       "</div>"
      ],
      "text/plain": [
       "   Label     Value\n",
       "0    0.0  1.231191\n",
       "1    0.0  0.617047\n",
       "2    0.0  0.640862\n",
       "3    0.0  2.659028\n",
       "4    0.0  0.758679"
      ]
     },
     "execution_count": 34,
     "metadata": {},
     "output_type": "execute_result"
    }
   ],
   "source": [
    "processed_df = pd.DataFrame(output3.T, columns = [\"Label\",\"Value\"])\n",
    "processed_df.head()"
   ]
  },
  {
   "cell_type": "code",
   "execution_count": 41,
   "id": "59d7974f",
   "metadata": {},
   "outputs": [],
   "source": [
    "processed_df['Tag'] = processed_df[\"Label\"].apply(lambda x: \"Normal\" if x == 0 else \"Exponential\")"
   ]
  },
  {
   "cell_type": "code",
   "execution_count": 42,
   "id": "734dac0b",
   "metadata": {},
   "outputs": [
    {
     "data": {
      "text/html": [
       "<div>\n",
       "<style scoped>\n",
       "    .dataframe tbody tr th:only-of-type {\n",
       "        vertical-align: middle;\n",
       "    }\n",
       "\n",
       "    .dataframe tbody tr th {\n",
       "        vertical-align: top;\n",
       "    }\n",
       "\n",
       "    .dataframe thead th {\n",
       "        text-align: right;\n",
       "    }\n",
       "</style>\n",
       "<table border=\"1\" class=\"dataframe\">\n",
       "  <thead>\n",
       "    <tr style=\"text-align: right;\">\n",
       "      <th></th>\n",
       "      <th>Label</th>\n",
       "      <th>Value</th>\n",
       "      <th>Tag</th>\n",
       "    </tr>\n",
       "  </thead>\n",
       "  <tbody>\n",
       "    <tr>\n",
       "      <th>0</th>\n",
       "      <td>0.0</td>\n",
       "      <td>1.231191</td>\n",
       "      <td>Normal</td>\n",
       "    </tr>\n",
       "    <tr>\n",
       "      <th>1</th>\n",
       "      <td>0.0</td>\n",
       "      <td>0.617047</td>\n",
       "      <td>Normal</td>\n",
       "    </tr>\n",
       "    <tr>\n",
       "      <th>2</th>\n",
       "      <td>0.0</td>\n",
       "      <td>0.640862</td>\n",
       "      <td>Normal</td>\n",
       "    </tr>\n",
       "    <tr>\n",
       "      <th>3</th>\n",
       "      <td>0.0</td>\n",
       "      <td>2.659028</td>\n",
       "      <td>Normal</td>\n",
       "    </tr>\n",
       "    <tr>\n",
       "      <th>4</th>\n",
       "      <td>0.0</td>\n",
       "      <td>0.758679</td>\n",
       "      <td>Normal</td>\n",
       "    </tr>\n",
       "  </tbody>\n",
       "</table>\n",
       "</div>"
      ],
      "text/plain": [
       "   Label     Value     Tag\n",
       "0    0.0  1.231191  Normal\n",
       "1    0.0  0.617047  Normal\n",
       "2    0.0  0.640862  Normal\n",
       "3    0.0  2.659028  Normal\n",
       "4    0.0  0.758679  Normal"
      ]
     },
     "execution_count": 42,
     "metadata": {},
     "output_type": "execute_result"
    }
   ],
   "source": [
    "processed_df.head()"
   ]
  },
  {
   "cell_type": "code",
   "execution_count": 50,
   "id": "eec1b666",
   "metadata": {},
   "outputs": [
    {
     "data": {
      "text/plain": [
       "<AxesSubplot:xlabel='Value'>"
      ]
     },
     "execution_count": 50,
     "metadata": {},
     "output_type": "execute_result"
    },
    {
     "data": {
      "image/png": "[encoded data removed]",
      "text/plain": [
       "<Figure size 432x288 with 1 Axes>"
      ]
     },
     "metadata": {
      "needs_background": "light"
     },
     "output_type": "display_data"
    }
   ],
   "source": [
    "sns.violinplot(x=processed_df[processed_df['Tag']==\"Normal\"]['Value'])"
   ]
  },
  {
   "cell_type": "code",
   "execution_count": 52,
   "id": "d1dba1ff",
   "metadata": {},
   "outputs": [
    {
     "data": {
      "text/plain": [
       "<AxesSubplot:xlabel='Value'>"
      ]
     },
     "execution_count": 52,
     "metadata": {},
     "output_type": "execute_result"
    },
    {
     "data": {
      "image/png": "[encoded data removed]",
      "text/plain": [
       "<Figure size 432x288 with 1 Axes>"
      ]
     },
     "metadata": {
      "needs_background": "light"
     },
     "output_type": "display_data"
    }
   ],
   "source": [
    "sns.violinplot(x=processed_df[processed_df['Tag']==\"Exponential\"]['Value'])"
   ]
  },
  {
   "cell_type": "code",
   "execution_count": 53,
   "id": "94b53a4e",
   "metadata": {},
   "outputs": [],
   "source": [
    "processed_df[\"Temporary\"] = \"Temporary\""
   ]
  },
  {
   "cell_type": "code",
   "execution_count": 59,
   "id": "d4a22240",
   "metadata": {},
   "outputs": [
    {
     "data": {
      "text/plain": [
       "<seaborn.axisgrid.FacetGrid at 0x1621ad285b0>"
      ]
     },
     "execution_count": 59,
     "metadata": {},
     "output_type": "execute_result"
    },
    {
     "data": {
      "image/png": "[encoded data removed]",
      "text/plain": [
       "<Figure size 455x360 with 1 Axes>"
      ]
     },
     "metadata": {
      "needs_background": "light"
     },
     "output_type": "display_data"
    }
   ],
   "source": [
    "sns.catplot(data = processed_df, x =\"Value\", hue=\"Tag\", y=\"Temporary\",kind='violin')"
   ]
  }
 ],
 "metadata": {
  "kernelspec": {
   "display_name": "Python 3 (ipykernel)",
   "language": "python",
   "name": "python3"
  },
  "language_info": {
   "codemirror_mode": {
    "name": "ipython",
    "version": 3
   },
   "file_extension": ".py",
   "mimetype": "text/x-python",
   "name": "python",
   "nbconvert_exporter": "python",
   "pygments_lexer": "ipython3",
   "version": "3.9.12"
  }
 },
 "nbformat": 4,
 "nbformat_minor": 5
}
