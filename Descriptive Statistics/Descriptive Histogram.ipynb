{
 "cells": [
  {
   "cell_type": "markdown",
   "id": "6690db37",
   "metadata": {},
   "source": [
    "<h1>Descriptive Histogram</h1>"
   ]
  },
  {
   "cell_type": "code",
   "execution_count": 11,
   "id": "5509d7f1",
   "metadata": {},
   "outputs": [],
   "source": [
    "import numpy as np\n",
    "import matplotlib.pyplot as plt\n",
    "from scipy import stats\n",
    "import seaborn as sns"
   ]
  },
  {
   "cell_type": "code",
   "execution_count": 5,
   "id": "a0515d6b",
   "metadata": {},
   "outputs": [
    {
     "data": {
      "image/png": "[encoded data removed]",
      "text/plain": [
       "<Figure size 432x288 with 1 Axes>"
      ]
     },
     "metadata": {
      "needs_background": "light"
     },
     "output_type": "display_data"
    }
   ],
   "source": [
    "##Arbitary Number of Bins\n",
    "\n",
    "#number of datapoints\n",
    "n = 1000\n",
    "\n",
    "#number of histograms bins\n",
    "k = 40\n",
    "\n",
    "#log Normal Distribution\n",
    "data = np.exp(np.random.randn(n)/2)\n",
    "\n",
    "#one way to show a histogram\n",
    "plt.hist(data, k,rwidth = 0.5)\n",
    "plt.xlabel('Value')\n",
    "plt.ylabel('Count')\n",
    "plt.show()"
   ]
  },
  {
   "cell_type": "code",
   "execution_count": 9,
   "id": "5a30b557",
   "metadata": {},
   "outputs": [
    {
     "data": {
      "image/png": "[encoded data removed]",
      "text/plain": [
       "<Figure size 432x288 with 1 Axes>"
      ]
     },
     "metadata": {
      "needs_background": "light"
     },
     "output_type": "display_data"
    }
   ],
   "source": [
    "##Freedman Diaconis Rule\n",
    "\n",
    "#number of datapoints\n",
    "n = 1000\n",
    "\n",
    "#number of histograms bins\n",
    "r = 2 * stats.iqr(data)*n ** (-1/3)\n",
    "b = np.ceil((max(data) - min(data))/r)\n",
    "\n",
    "#log Normal Distribution\n",
    "data = np.exp(np.random.randn(n)/2)\n",
    "\n",
    "#one way to show a histogram\n",
    "plt.hist(data, np.int32(b),rwidth = 0.5)\n",
    "plt.xlabel('Value')\n",
    "plt.ylabel('Count')\n",
    "plt.show()"
   ]
  },
  {
   "cell_type": "code",
   "execution_count": null,
   "id": "b23e510f",
   "metadata": {},
   "outputs": [],
   "source": [
    "#one way to show a histogram\n",
    "plt.hist(data, np.int32(b),rwidth = 0.5)\n",
    "plt.xlabel('Value')\n",
    "plt.ylabel('Count')\n",
    "plt.show()"
   ]
  },
  {
   "cell_type": "code",
   "execution_count": 15,
   "id": "eb7df79e",
   "metadata": {},
   "outputs": [
    {
     "data": {
      "text/plain": [
       "<seaborn.axisgrid.FacetGrid at 0x2ade0846820>"
      ]
     },
     "execution_count": 15,
     "metadata": {},
     "output_type": "execute_result"
    },
    {
     "data": {
      "image/png": "[encoded data removed]",
      "text/plain": [
       "<Figure size 360x360 with 1 Axes>"
      ]
     },
     "metadata": {
      "needs_background": "light"
     },
     "output_type": "display_data"
    }
   ],
   "source": [
    "sns.displot(data, kind='hist')"
   ]
  },
  {
   "cell_type": "code",
   "execution_count": null,
   "id": "68738130",
   "metadata": {},
   "outputs": [],
   "source": []
  }
 ],
 "metadata": {
  "kernelspec": {
   "display_name": "Python 3 (ipykernel)",
   "language": "python",
   "name": "python3"
  },
  "language_info": {
   "codemirror_mode": {
    "name": "ipython",
    "version": 3
   },
   "file_extension": ".py",
   "mimetype": "text/x-python",
   "name": "python",
   "nbconvert_exporter": "python",
   "pygments_lexer": "ipython3",
   "version": "3.9.12"
  }
 },
 "nbformat": 4,
 "nbformat_minor": 5
}
